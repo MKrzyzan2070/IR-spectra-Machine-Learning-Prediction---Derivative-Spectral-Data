{
 "cells": [
  {
   "cell_type": "code",
   "execution_count": 2,
   "id": "b8dc9cf6",
   "metadata": {},
   "outputs": [
    {
     "data": {
      "text/plain": [
       "{'Aromatic': ['[$([cX3](:*):*),$([cX2+](:*):*)]'],\n",
       " 'Aromatic nitrogen': ['[$([n](:*):*)]'],\n",
       " 'Aromatic halogen': ['[$([cX3](:*):*),$([cX2+](:*):*)]F',\n",
       "  '[$([cX3](:*):*),$([cX2+](:*):*)]Cl',\n",
       "  '[$([cX3](:*):*),$([cX2+](:*):*)]Br',\n",
       "  '[$([cX3](:*):*),$([cX2+](:*):*)]I'],\n",
       " 'Aromatic ether': ['[$([cX3](:*):*),$([cX2+](:*):*)]OC'],\n",
       " 'Aromatic ketone': ['[$([cX3](:*):*),$([cX2+](:*):*)]CC(=O)'],\n",
       " 'Hydroxyl': ['[#6][OX2H]'],\n",
       " 'Carboxylic acid': ['[CX3](=O)[OX2H1]'],\n",
       " 'Acyl Halide': ['O=CBr', 'O=CCl', 'O=CF', 'O=CI'],\n",
       " 'Alkane': ['CC'],\n",
       " 'Alkene': ['C=C'],\n",
       " 'Alkyne': ['C#C'],\n",
       " 'Amide': ['NC=O'],\n",
       " 'Carbonyl': ['C=O'],\n",
       " 'Ester': ['O=CO'],\n",
       " 'Imine': ['C=N'],\n",
       " 'Nitrile': ['C#N'],\n",
       " 'Nitro': ['N=O'],\n",
       " 'Non-aromatic Ether': ['COC'],\n",
       " 'Non-aromatic Halide': ['CBr', 'CCl', 'CF', 'CI'],\n",
       " 'Non-aromatic Ketone': ['CC(C)=O'],\n",
       " 'Sulphur oxide': ['O=S'],\n",
       " 'Sulphur': ['S']}"
      ]
     },
     "execution_count": 2,
     "metadata": {},
     "output_type": "execute_result"
    }
   ],
   "source": [
    "import os\n",
    "from rdkit import Chem\n",
    "from rdkit import RDLogger\n",
    "import re\n",
    "import json\n",
    "RDLogger.DisableLog('rdApp.*')\n",
    "\n",
    "\n",
    "fun_group_smiles_dictionary = {}\n",
    "\n",
    "path = \"Functional_Groups_Mol\"\n",
    "all_molfiles_list = os.listdir(path)\n",
    "\n",
    "##########################################################################################\n",
    "#I have to make an exception for aromatics, alcohol, and carboxylic acids:\n",
    "aromatic_smarts = \"[$([cX3](:*):*),$([cX2+](:*):*)]\"\n",
    "aromatic_nitrogen_smarts = \"[$([n](:*):*)]\"\n",
    "aromatic_ketone_smarts = \"[$([cX3](:*):*),$([cX2+](:*):*)]CC(=O)\"\n",
    "hydroxyl_smarts = \"[#6][OX2H]\"\n",
    "carboxylic_acid_smarts = \"[CX3](=O)[OX2H1]\"\n",
    "halogens = [\"F\", \"Cl\", \"Br\", \"I\"]\n",
    "\n",
    "aromatic_halogen_smarts = []\n",
    "for halogen in halogens:\n",
    "    aromatic_halogen_smarts.append(aromatic_smarts+halogen)\n",
    "    \n",
    "fun_group_smiles_dictionary[\"Aromatic\"] = [aromatic_smarts]\n",
    "fun_group_smiles_dictionary[\"Aromatic nitrogen\"] = [aromatic_nitrogen_smarts]\n",
    "fun_group_smiles_dictionary[\"Aromatic halogen\"] = aromatic_halogen_smarts\n",
    "fun_group_smiles_dictionary[\"Aromatic ether\"] = [aromatic_smarts + \"OC\"]\n",
    "fun_group_smiles_dictionary[\"Aromatic ketone\"] = [aromatic_ketone_smarts]\n",
    "fun_group_smiles_dictionary[\"Hydroxyl\"] = [hydroxyl_smarts]\n",
    "fun_group_smiles_dictionary[\"Carboxylic acid\"] = [carboxylic_acid_smarts]\n",
    "##########################################################################################\n",
    "\n",
    "\n",
    "for fun_group_file in all_molfiles_list:\n",
    "    fun_group_smiles_list = []\n",
    "    \n",
    "    #.mol is 4 letters long\n",
    "    fun_group_name = fun_group_file[0:len(fun_group_file)-4]\n",
    "    fun_group_path = path + \"/\" + fun_group_file\n",
    "    fun_group = Chem.MolFromMolFile(fun_group_path)\n",
    "    fun_group_smiles = Chem.MolToSmiles(fun_group)\n",
    "    \n",
    "    #Each .mol file can have different possible substrusctures\n",
    "    #These are separated by .\n",
    "    the_find = re.findall(\"\\.\", fun_group_smiles)\n",
    "    if len(the_find) > 0:\n",
    "        split_smiles = fun_group_smiles.split(\".\")\n",
    "        for i in split_smiles:\n",
    "            fun_group_smiles_list.append(i)\n",
    "    else:\n",
    "        fun_group_smiles_list.append(fun_group_smiles)\n",
    "        \n",
    "    fun_group_smiles_dictionary[fun_group_name] = fun_group_smiles_list\n",
    "\n",
    "    \n",
    "json_object = json.dumps(fun_group_smiles_dictionary, indent=len(fun_group_smiles_dictionary))\n",
    "with open(\"The_machine_proper/SMILES_SMARTS_string.json\", \"w\") as doc:\n",
    "    doc.write(json_object)\n",
    "fun_group_smiles_dictionary"
   ]
  },
  {
   "cell_type": "code",
   "execution_count": 3,
   "id": "6048cead",
   "metadata": {},
   "outputs": [
    {
     "name": "stdout",
     "output_type": "stream",
     "text": [
      "matches\n"
     ]
    }
   ],
   "source": [
    "#Testing:\n",
    "\n",
    "molecule_smile_string = \"c1ccccc1\"\n",
    "fun_group_smiles_list = ['[$([cX3](:*):*),$([cX2+](:*):*)]']\n",
    "\n",
    "matched = False\n",
    "for functional_group_smile_string in fun_group_smiles_list:\n",
    "    molecule = Chem.MolFromSmiles(molecule_smile_string)\n",
    "    try:\n",
    "        functional_group = Chem.MolFromSmarts(functional_group_smile_string)\n",
    "    except:\n",
    "        functional_group = Chem.MolFromSmiles(functional_group_smile_string)\n",
    "        \n",
    "    match = molecule.HasSubstructMatch(functional_group)\n",
    "    if match is True:\n",
    "        matched = True\n",
    "    \n",
    "if matched is True:\n",
    "    print(\"matches\")\n",
    "else:\n",
    "    print(\"doesn't match\")"
   ]
  },
  {
   "cell_type": "code",
   "execution_count": null,
   "id": "fe829813",
   "metadata": {},
   "outputs": [],
   "source": []
  },
  {
   "cell_type": "code",
   "execution_count": null,
   "id": "5e3f42e9",
   "metadata": {},
   "outputs": [],
   "source": []
  },
  {
   "cell_type": "code",
   "execution_count": null,
   "id": "3a9fd67c",
   "metadata": {},
   "outputs": [],
   "source": []
  }
 ],
 "metadata": {
  "kernelspec": {
   "display_name": "Python 3 (ipykernel)",
   "language": "python",
   "name": "python3"
  },
  "language_info": {
   "codemirror_mode": {
    "name": "ipython",
    "version": 3
   },
   "file_extension": ".py",
   "mimetype": "text/x-python",
   "name": "python",
   "nbconvert_exporter": "python",
   "pygments_lexer": "ipython3",
   "version": "3.7.13"
  }
 },
 "nbformat": 4,
 "nbformat_minor": 5
}
